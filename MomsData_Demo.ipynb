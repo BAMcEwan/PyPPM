{
 "cells": [
  {
   "cell_type": "markdown",
   "metadata": {},
   "source": [
    "# Data analysis demo for H-core-M25 stellar hydro project\n",
    "Last update: Nov 16, 2018.\n",
    "\n",
    "This notebook contains a demonstration how to analyse the 3D filtered _moms_ data and the 1D radial profile _rprof_ data from _PPMstar_ 3D hydrodynamic simulations. \n",
    "\n",
    "### Data for this demo\n",
    "The examples are for the project `H-core-M25` (this is the project identifier), the H-core convection simulations of a 25M$_\\odot$ star. \n",
    "\n",
    "Two runs are used:\n",
    "* `M29`: $768^3$ grid\n",
    "* `M35`: $1536^3$ grid\n",
    "\n",
    "`M29`, `M35` are the run identifier. Keep run and project identifier attached to all derived data products. \n",
    "\n",
    "Both runs have 1000x heating which increases their convective velocities by a factor of 10. \n",
    "\n",
    "For each run there are two types of data to be read for this demo:\n",
    "* _moms_ data is the spatially filtered data (2-byte data on reduced grid by factor four in each direction) in 3D\n",
    "* _rprofs_ data are spherically averaged radial profiles\n",
    "\n",
    "### Location of data\n",
    "The data is staged on the UVic Astrophysics Simulation Data Repository (ASDR) mounted in `/data/ASDR`. The repository contains the project folder `H-core-M25`. \n",
    "\n",
    "### Python asumptions\n",
    "\n",
    "The server defaults each notebook to `%pylab ipympl`"
   ]
  },
  {
   "cell_type": "code",
   "execution_count": 1,
   "metadata": {},
   "outputs": [],
   "source": [
    "## use this for final run to export with images to pdf, markdown or html\n",
    "#%pylab inline"
   ]
  },
  {
   "cell_type": "code",
   "execution_count": 1,
   "metadata": {},
   "outputs": [],
   "source": [
    "import numpy as np\n",
    "import matplotlib as mpl\n",
    "import matplotlib.pyplot as plt\n",
    "import matplotlib.colors as color\n",
    "import nugridpy.utils as utils\n",
    "import sys, os, time\n",
    "\n",
    "# if you make changes to the ppmpy module (e.g. add your analysis methods via a pull \n",
    "# request) in the https://github.com/PPMstar/PyPPM repo you may want use that \n",
    "# updated version\n",
    "#sys.path.insert(0,'/user/david/PyPPM/')\n",
    "sys.path.insert(0,'/user/PyPPM/')\n",
    "from ppmpy import ppm\n",
    "\n",
    "cb = utils.linestylecb # colours"
   ]
  },
  {
   "cell_type": "code",
   "execution_count": 2,
   "metadata": {},
   "outputs": [
    {
     "name": "stdout",
     "output_type": "stream",
     "text": [
      "M29-768\n",
      "M35-1536\n"
     ]
    }
   ],
   "source": [
    "%%bash\n",
    "ls /data/ASDR/H-core-M25/"
   ]
  },
  {
   "cell_type": "code",
   "execution_count": 3,
   "metadata": {},
   "outputs": [
    {
     "name": "stdout",
     "output_type": "stream",
     "text": [
      "51 rprof files found in '/data/ASDR/H-core-M25/M29-768/rprofs/.\n",
      "Dump numbers range from 650 to 700.\n",
      "Reading history file '/data/ASDR/H-core-M25/M29-768/rprofs/HcoreE00768-0000.hstry'.\n",
      "51 .aaa files found in '/data/ASDR/H-core-M25/M29-768/myavsbq/.\n",
      "Dump numbers range from 650 to 700.\n",
      "The PPMstar grid is being constructed, this can take a moment\n",
      "51 rprof files found in '/data/ASDR/H-core-M25/M35-1536/rprofs/.\n",
      "Dump numbers range from 375 to 425.\n",
      "Reading history file '/data/ASDR/H-core-M25/M35-1536/rprofs/HcoreE01536-0000.hstry'.\n",
      "51 .aaa files found in '/data/ASDR/H-core-M25/M35-1536/myavsbq/.\n",
      "Dump numbers range from 375 to 425.\n",
      "The PPMstar grid is being constructed, this can take a moment\n",
      "moms and rprof dictionary created\n"
     ]
    }
   ],
   "source": [
    "dir_repo    = '/data/ASDR'\n",
    "dir_project = 'H-core-M25'\n",
    "rprof = {}; moms = {}         # initialize dictionaries to hold rprof and moms instances\n",
    "\n",
    "runs       = ['M29-768','M35-1536'] # select runs\n",
    "moms_dumps = {}\n",
    "moms_dumps[runs[0]] = 650       # select dump numbers for moms\n",
    "moms_dumps[runs[1]] = 375   \n",
    "\n",
    "#runs       = ['M29-768'] # select runs\n",
    "#moms_dumps = [ 650     ] # select dump numbers for moms\n",
    "\n",
    "# rprof instance holds radial profiles for all dumps\n",
    "# moms instance holds only one dump at a time\n",
    "for run in runs:        \n",
    "    path = os.path.join(dir_repo,dir_project,run)\n",
    "    # radial profile:\n",
    "    rprof[run] = ppm.RprofSet(os.path.join(path,'rprofs'))\n",
    "    moms[run] = ppm.MomsDataSet(os.path.join(path,'myavsbq'),moms_dumps[run])\n",
    "print(\"moms and rprof dictionary created\")"
   ]
  },
  {
   "cell_type": "code",
   "execution_count": 4,
   "metadata": {},
   "outputs": [],
   "source": [
    "# get info about moms instance\n",
    "# help(moms['M29-768'])"
   ]
  },
  {
   "cell_type": "markdown",
   "metadata": {},
   "source": [
    "## Basic grid properties"
   ]
  },
  {
   "cell_type": "code",
   "execution_count": 5,
   "metadata": {},
   "outputs": [],
   "source": [
    "x,y,z,r=moms['M29-768'].get_grid()"
   ]
  },
  {
   "cell_type": "code",
   "execution_count": 6,
   "metadata": {},
   "outputs": [
    {
     "name": "stdout",
     "output_type": "stream",
     "text": [
      "7077888 7077888\n"
     ]
    }
   ],
   "source": [
    "print(192**3,len(r))"
   ]
  },
  {
   "cell_type": "code",
   "execution_count": 7,
   "metadata": {},
   "outputs": [
    {
     "name": "stdout",
     "output_type": "stream",
     "text": [
      "Distance center of grid to max x value of domain: 2493.4895 Mm\n"
     ]
    }
   ],
   "source": [
    "print(\"Distance center of grid to max x value of domain: %6.4f Mm\" % moms['M35-1536'].get_grid()[0][-1])"
   ]
  },
  {
   "cell_type": "markdown",
   "metadata": {},
   "source": [
    "### Histogram of radii\n",
    "* increasing to 1/2 length of grid, then decreasing as only fraction of shell in box"
   ]
  },
  {
   "cell_type": "code",
   "execution_count": 8,
   "metadata": {},
   "outputs": [
    {
     "data": {
      "application/vnd.jupyter.widget-view+json": {
       "model_id": "d6bac3bc7da04434bd7a48fd1a9d486f",
       "version_major": 2,
       "version_minor": 0
      },
      "text/plain": [
       "FigureCanvasNbAgg()"
      ]
     },
     "metadata": {},
     "output_type": "display_data"
    },
    {
     "data": {
      "text/plain": [
       "Text(0, 0.5, '')"
      ]
     },
     "execution_count": 8,
     "metadata": {},
     "output_type": "execute_result"
    }
   ],
   "source": [
    "ifig=0\n",
    "ifig += 1; plt.close(ifig);  plt.figure(ifig)\n",
    "hist(r,86)\n",
    "xmax = moms['M35-1536'].get_grid()[0][-1]\n",
    "vlines(xmax,0,2.3e5,linestyles='--',lw=0.5)\n",
    "xlabel('radius / Mm')\n",
    "ylabel('')"
   ]
  },
  {
   "cell_type": "markdown",
   "metadata": {},
   "source": [
    "### Some more experiments with coordinates"
   ]
  },
  {
   "cell_type": "code",
   "execution_count": 9,
   "metadata": {},
   "outputs": [],
   "source": [
    "xx=reshape(x,[192,192,192])"
   ]
  },
  {
   "cell_type": "code",
   "execution_count": 10,
   "metadata": {},
   "outputs": [
    {
     "data": {
      "application/vnd.jupyter.widget-view+json": {
       "model_id": "a83894b0f9dd46cc864540d2e830cf2b",
       "version_major": 2,
       "version_minor": 0
      },
      "text/plain": [
       "FigureCanvasNbAgg()"
      ]
     },
     "metadata": {},
     "output_type": "display_data"
    },
    {
     "data": {
      "text/plain": [
       "[<matplotlib.lines.Line2D at 0x7f378d703e10>]"
      ]
     },
     "execution_count": 10,
     "metadata": {},
     "output_type": "execute_result"
    }
   ],
   "source": [
    "ifig += 1; plt.close(ifig);  plt.figure(ifig)\n",
    "#plot(xx[0][0])\n",
    "plot(x[0:1000])"
   ]
  },
  {
   "cell_type": "markdown",
   "metadata": {},
   "source": [
    "### Planar slice image"
   ]
  },
  {
   "cell_type": "code",
   "execution_count": 11,
   "metadata": {},
   "outputs": [],
   "source": [
    "# grab the grid\n",
    "x,y,z,r = moms['M35-1536'].get_grid()\n",
    "\n",
    "# they are flattened arrays, rearrange\n",
    "resolution = moms['M35-1536'].momsdata.resolution\n",
    "r_matrix = np.reshape(r,(resolution,resolution,resolution))\n",
    "\n",
    "# extent x,y\n",
    "extent=[min(x),max(x),min(y),max(y)]\n",
    "\n",
    "# slice number\n",
    "slice_num = 200"
   ]
  },
  {
   "cell_type": "markdown",
   "metadata": {},
   "source": [
    "#### Radius"
   ]
  },
  {
   "cell_type": "code",
   "execution_count": 12,
   "metadata": {},
   "outputs": [
    {
     "data": {
      "application/vnd.jupyter.widget-view+json": {
       "model_id": "e3327b5d609c4364ba19d539943b6e10",
       "version_major": 2,
       "version_minor": 0
      },
      "text/plain": [
       "FigureCanvasNbAgg()"
      ]
     },
     "metadata": {},
     "output_type": "display_data"
    },
    {
     "name": "stderr",
     "output_type": "stream",
     "text": [
      "DEBUG:matplotlib.colorbar:locator: <matplotlib.colorbar._ColorbarAutoLocator object at 0x7f378d69fbe0>\n",
      "DEBUG:matplotlib.colorbar:Using auto colorbar locator on colorbar\n",
      "DEBUG:matplotlib.colorbar:locator: <matplotlib.colorbar._ColorbarAutoLocator object at 0x7f378d69fbe0>\n",
      "DEBUG:matplotlib.colorbar:Setting pcolormesh\n"
     ]
    },
    {
     "data": {
      "text/plain": [
       "Text(0, 0.5, 'radius')"
      ]
     },
     "execution_count": 12,
     "metadata": {},
     "output_type": "execute_result"
    }
   ],
   "source": [
    "ifig += 1; plt.close(ifig); plt.figure(ifig)\n",
    "plt.imshow(r_matrix[:][:][slice_num],extent=extent)\n",
    "plt.ylabel('y')\n",
    "plt.xlabel('x')\n",
    "cbar = plt.colorbar()\n",
    "\n",
    "# label colorbar\n",
    "cbar.ax.set_ylabel('radius')"
   ]
  },
  {
   "cell_type": "markdown",
   "metadata": {},
   "source": [
    "### Properties of the grid and time resolution"
   ]
  },
  {
   "cell_type": "code",
   "execution_count": 13,
   "metadata": {},
   "outputs": [
    {
     "name": "stdout",
     "output_type": "stream",
     "text": [
      "The spatial resolution of 768 momsdata is 26.042 Mm\n",
      "While PPMStar 768 has a spatial resolution of 6.510 Mm\n",
      "\n",
      "The spatial resolution of 1536 momsdata is 13.021 Mm\n",
      "While PPMStar 1536 has a spatial resolution of 3.255 Mm\n",
      "\n",
      "The extent of the simulation is then 2500 Mm\n"
     ]
    }
   ],
   "source": [
    "# spatial resolution for 768 momsdata\n",
    "print('The spatial resolution of 768 momsdata is {:0.3f}'.format(np.diff(moms['M29-768'].get_grid()[0])[0]),'Mm')\n",
    "print('While PPMStar 768 has a spatial resolution of {:0.3f}'.format(np.diff(moms['M29-768'].get_grid()[0])[0]/4.),'Mm')\n",
    "\n",
    "print('')\n",
    "\n",
    "# spatial resolution for 1536 momsdata\n",
    "print('The spatial resolution of 1536 momsdata is {:0.3f}'.format(np.diff(moms['M35-1536'].get_grid()[0])[0]),'Mm')\n",
    "print('While PPMStar 1536 has a spatial resolution of {:0.3f}'.format(np.diff(moms['M35-1536'].get_grid()[0])[0]/4.),'Mm')\n",
    "\n",
    "print('')\n",
    "\n",
    "# what is the extent of the simulation?\n",
    "print('The extent of the simulation is then {:0.0f}'.format(np.diff(moms['M35-1536'].get_grid()[0])[0]/4. * 1536/2.),'Mm')"
   ]
  },
  {
   "cell_type": "code",
   "execution_count": 14,
   "metadata": {},
   "outputs": [
    {
     "name": "stdout",
     "output_type": "stream",
     "text": [
      "The temporal resolution of 768 and 1536 momsdata is the same as the PPMStar output which averages around 167.19 minutes per dump\n",
      "\n",
      "The run-time temporal resolution of the PPMStar output averages around 2.73 seconds per cycle\n"
     ]
    }
   ],
   "source": [
    "#  for 768 momsdata\n",
    "print('The temporal resolution of 768 and 1536 momsdata is the same as the PPMStar output which averages around {:0.2f}'.\n",
    "      format(np.mean(np.diff(rprof['M29-768'].get_history().get('time(mins)')))),'minutes per dump')\n",
    "\n",
    "print('')\n",
    "\n",
    "print('The run-time temporal resolution of the PPMStar output averages around {:0.2f}'.\n",
    "      format(np.mean(rprof['M35-1536'].get_history().get('dt(secs)'))),'seconds per cycle')"
   ]
  },
  {
   "cell_type": "markdown",
   "metadata": {},
   "source": [
    "## Find Times For Dumps"
   ]
  },
  {
   "cell_type": "markdown",
   "metadata": {},
   "source": [
    "As hinted at in the above section, there is a history file that gives us information about the run. This is located in the rprof files themselves"
   ]
  },
  {
   "cell_type": "code",
   "execution_count": 15,
   "metadata": {},
   "outputs": [
    {
     "name": "stdout",
     "output_type": "stream",
     "text": [
      "6507520.0 seconds have passed since the simulation started for the 768 run\n",
      "3756320.0 seconds have passed since the simulation started for the 1536 run\n"
     ]
    }
   ],
   "source": [
    "# get the simulation time in seconds for dump 100 in the 768 and 1536 runs\n",
    "print('{:0.1f} seconds '.format(rprof['M29-768'].get_history().get('time(secs)')[moms_dumps['M29-768']]) + \n",
    "'have passed since the simulation started for the 768 run')\n",
    "print('{:0.1f} seconds '.format(rprof['M35-1536'].get_history().get('time(secs)')[moms_dumps['M35-1536']]) +\n",
    "      'have passed since the simulation started for the 1536 run')"
   ]
  },
  {
   "cell_type": "markdown",
   "metadata": {},
   "source": [
    "## What quantities have what index?"
   ]
  },
  {
   "cell_type": "markdown",
   "metadata": {},
   "source": [
    "The following quantities written into the moms data file which can be called with an index:"
   ]
  },
  {
   "cell_type": "markdown",
   "metadata": {},
   "source": [
    "| index | quantity            |\n",
    "|:-----:|:--------------:     |\n",
    "| 0     | x                   |\n",
    "| 1     | $\\vec{u_{x}}$                  |   \n",
    "| 2     | $\\vec{u_{y}}$             | \n",
    "|  3    | $\\vec{u_{z}}$             | \n",
    "|  4    | $\\lvert\\vec{u_{t}}\\rvert$         | \n",
    "|  5    | $\\lvert\\vec{u_{r}}\\rvert$             | \n",
    "|  6    | $\\lvert\\vec{\\omega}\\rvert$      | \n",
    "|  7    | P              | \n",
    "|  8    | rho            | \n",
    "|  9    | fv             | \n",
    "\n",
    "* Note that these are just 10 out of 32 quantities that can be made available in the moms data. \n",
    "* fv is the fractional volume of the material initially only outside the convection zone."
   ]
  },
  {
   "cell_type": "markdown",
   "metadata": {},
   "source": [
    "#### Some Helpful Definitions"
   ]
  },
  {
   "cell_type": "markdown",
   "metadata": {},
   "source": [
    "$\\mu$ = fv $\\times$ 0.617 + (1 - fv) $\\times$ 0.669\n",
    "\n",
    "T = $\\frac{P \\mu}{\\rho R_{gas}}$\n",
    "\n",
    "$R_{gas}$ = 8.314462\n",
    "\n",
    "$\\vec{\\omega}$ = $\\vec{\\nabla} \\times \\vec{u}$"
   ]
  },
  {
   "cell_type": "markdown",
   "metadata": {},
   "source": [
    "## Radial profiles\n",
    "Radial profiles can be taken from the _rprof_ data sets. They can also be constructed from the _moms_ data. This is demonstrated below. "
   ]
  },
  {
   "cell_type": "code",
   "execution_count": 16,
   "metadata": {},
   "outputs": [],
   "source": [
    "# define variables for dump number, rprof and moms\n",
    "\n",
    "runid = 'M29-768'   # select run id for the rest of the notebook\n",
    "runid = 'M35-1536'\n",
    "thisdump = moms_dumps[runid]\n",
    "thisrprof = rprof[runid]\n",
    "thismoms = moms[runid]\n",
    "\n",
    "# get T9 and Ut\n",
    "P_rprof = thisrprof.get('P0',fname=thisdump,resolution='h')[0::2] + thisrprof.get('P1',fname=thisdump,resolution='h')[0::2]\n",
    "rho_rprof = thisrprof.get('Rho0',fname=thisdump,resolution='h')[0::2] + thisrprof.get('Rho1',fname=thisdump,resolution='h')[0::2]\n",
    "FV_rprof = thisrprof.get('FV',fname=thisdump,resolution='h')[0::2]\n",
    "\n",
    "# T9 in rprof class is not correct, calculate directly\n",
    "T9_rprof = P_rprof * (0.617*FV_rprof + 0.669*(1-FV_rprof)) / (8.314462 * rho_rprof)\n",
    "\n",
    "R_rprof = thisrprof.get('R',fname=thisdump,resolution='l')\n",
    "Ut_rprof = thisrprof.get('|Ut|',fname=thisdump)"
   ]
  },
  {
   "cell_type": "code",
   "execution_count": 17,
   "metadata": {},
   "outputs": [
    {
     "name": "stderr",
     "output_type": "stream",
     "text": [
      "/usr/local/lib/python3.6/dist-packages/scipy/stats/_binned_statistic.py:607: FutureWarning: Using a non-tuple sequence for multidimensional indexing is deprecated; use `arr[tuple(seq)]` instead of `arr[seq]`. In the future this will be interpreted as an array index, `arr[np.array(seq)]`, which will result either in an error or a different result.\n",
      "  result = result[core]\n"
     ]
    }
   ],
   "source": [
    "\n",
    "# make an rprof of temperature and ut\n",
    "ut_avg, radial_axis = thismoms.get_rprof(4,thisdump)\n",
    "\n",
    "# first we need to construct T from quantities\n",
    "mu = 0.617 * thismoms.get(9,fname=thisdump) + (1 - thismoms.get(9,fname=thisdump))*0.669\n",
    "P = thismoms.get(7,fname=thisdump)\n",
    "rho = thismoms.get(8,fname=thisdump)\n",
    "Rgas = 8.314462\n",
    "\n",
    "# put it all together\n",
    "T = (mu * P) / (Rgas * rho)\n",
    "\n",
    "# we can give the rprof method an array to be spherically averaged\n",
    "T_avg, radial_axis = thismoms.get_rprof(T,thisdump)"
   ]
  },
  {
   "cell_type": "code",
   "execution_count": 18,
   "metadata": {},
   "outputs": [
    {
     "data": {
      "application/vnd.jupyter.widget-view+json": {
       "model_id": "d646ff5b428c48bfae6628920becd691",
       "version_major": 2,
       "version_minor": 0
      },
      "text/plain": [
       "FigureCanvasNbAgg()"
      ]
     },
     "metadata": {},
     "output_type": "display_data"
    },
    {
     "data": {
      "text/plain": [
       "<matplotlib.legend.Legend at 0x7f378d50b438>"
      ]
     },
     "execution_count": 18,
     "metadata": {},
     "output_type": "execute_result"
    }
   ],
   "source": [
    "# plot\n",
    "ifig += 1; plt.close(ifig);  plt.figure(ifig)\n",
    "\n",
    "plt.plot(R_rprof,T9_rprof,label='Rprof',ls=cb(0)[0],color=cb(0)[2])\n",
    "plt.plot(radial_axis,T_avg,label='Moms',ls=cb(1)[0],color=cb(1)[2])\n",
    "plt.xlabel('R')\n",
    "plt.ylabel('T9')\n",
    "\n",
    "plt.legend()"
   ]
  },
  {
   "cell_type": "code",
   "execution_count": 19,
   "metadata": {},
   "outputs": [
    {
     "data": {
      "application/vnd.jupyter.widget-view+json": {
       "model_id": "7cfee2643daf493997ca7bc461d4be15",
       "version_major": 2,
       "version_minor": 0
      },
      "text/plain": [
       "FigureCanvasNbAgg()"
      ]
     },
     "metadata": {},
     "output_type": "display_data"
    },
    {
     "data": {
      "text/plain": [
       "<matplotlib.legend.Legend at 0x7f378d60af60>"
      ]
     },
     "execution_count": 19,
     "metadata": {},
     "output_type": "execute_result"
    }
   ],
   "source": [
    "# plot\n",
    "ifig += 1; plt.close(ifig);  plt.figure(ifig)\n",
    "\n",
    "plt.plot(R_rprof,Ut_rprof,label='Rprof',ls=cb(0)[0],color=cb(0)[2])\n",
    "plt.plot(radial_axis,ut_avg,label='Moms',ls=cb(1)[0],color=cb(1)[2])\n",
    "\n",
    "plt.xlabel('R')\n",
    "plt.ylabel('|Ut|')\n",
    "\n",
    "plt.legend()"
   ]
  },
  {
   "cell_type": "markdown",
   "metadata": {},
   "source": [
    "### Planar Slice Image"
   ]
  },
  {
   "cell_type": "code",
   "execution_count": 20,
   "metadata": {},
   "outputs": [],
   "source": [
    "x,y,z,r = moms[runid].get_grid()\n",
    "\n",
    "# they are flattened arrays, rearrange\n",
    "resolution = moms[runid].momsdata.resolution\n",
    "r_matrix = np.reshape(r,(resolution,resolution,resolution))\n",
    "\n",
    "# extent x,y\n",
    "extent=[min(x),max(x),min(y),max(y)]\n",
    "\n",
    "# slice number\n",
    "slice_num = int(resolution/2)"
   ]
  },
  {
   "cell_type": "markdown",
   "metadata": {},
   "source": [
    "#### T9"
   ]
  },
  {
   "cell_type": "code",
   "execution_count": 21,
   "metadata": {},
   "outputs": [],
   "source": [
    "T_matrix = np.reshape(T,(resolution,resolution,resolution))"
   ]
  },
  {
   "cell_type": "code",
   "execution_count": 22,
   "metadata": {},
   "outputs": [
    {
     "data": {
      "application/vnd.jupyter.widget-view+json": {
       "model_id": "77c46b4524a24bc584c5a0d4b04823f9",
       "version_major": 2,
       "version_minor": 0
      },
      "text/plain": [
       "FigureCanvasNbAgg()"
      ]
     },
     "metadata": {},
     "output_type": "display_data"
    },
    {
     "name": "stderr",
     "output_type": "stream",
     "text": [
      "DEBUG:matplotlib.colorbar:locator: <matplotlib.colorbar._ColorbarAutoLocator object at 0x7f378d4c3ef0>\n",
      "DEBUG:matplotlib.colorbar:Using auto colorbar locator on colorbar\n",
      "DEBUG:matplotlib.colorbar:locator: <matplotlib.colorbar._ColorbarAutoLocator object at 0x7f378d4c3ef0>\n",
      "DEBUG:matplotlib.colorbar:Setting pcolormesh\n"
     ]
    },
    {
     "data": {
      "text/plain": [
       "Text(0, 0.5, 'T9')"
      ]
     },
     "execution_count": 22,
     "metadata": {},
     "output_type": "execute_result"
    }
   ],
   "source": [
    "ifig += 1; plt.close(ifig);  plt.figure(ifig)\n",
    "\n",
    "plt.imshow(T_matrix[:][:][slice_num],extent=extent)\n",
    "plt.ylabel('y')\n",
    "plt.xlabel('x')\n",
    "cbar = plt.colorbar()\n",
    "\n",
    "# label colorbar\n",
    "cbar.ax.set_ylabel('T9')"
   ]
  },
  {
   "cell_type": "markdown",
   "metadata": {},
   "source": [
    "#### |Ut|"
   ]
  },
  {
   "cell_type": "code",
   "execution_count": 23,
   "metadata": {},
   "outputs": [],
   "source": [
    "ut_matrix = np.reshape(thismoms.get(4,thisdump),(resolution,resolution,resolution))"
   ]
  },
  {
   "cell_type": "code",
   "execution_count": 24,
   "metadata": {},
   "outputs": [
    {
     "data": {
      "application/vnd.jupyter.widget-view+json": {
       "model_id": "dd0eae2382d64a75aab7d35a879c8227",
       "version_major": 2,
       "version_minor": 0
      },
      "text/plain": [
       "FigureCanvasNbAgg()"
      ]
     },
     "metadata": {},
     "output_type": "display_data"
    },
    {
     "name": "stderr",
     "output_type": "stream",
     "text": [
      "DEBUG:matplotlib.colorbar:locator: <matplotlib.colorbar._ColorbarAutoLocator object at 0x7f378d45edd8>\n",
      "DEBUG:matplotlib.colorbar:Using auto colorbar locator on colorbar\n",
      "DEBUG:matplotlib.colorbar:locator: <matplotlib.colorbar._ColorbarAutoLocator object at 0x7f378d45edd8>\n",
      "DEBUG:matplotlib.colorbar:Setting pcolormesh\n"
     ]
    },
    {
     "data": {
      "text/plain": [
       "Text(0, 0.5, '|Ut|')"
      ]
     },
     "execution_count": 24,
     "metadata": {},
     "output_type": "execute_result"
    }
   ],
   "source": [
    "ifig += 1; plt.close(ifig); plt.figure(ifig)\n",
    "plt.imshow(ut_matrix[:][:][slice_num],extent=extent)\n",
    "plt.ylabel('y')\n",
    "plt.xlabel('x')\n",
    "cbar = plt.colorbar()\n",
    "\n",
    "# label colorbar\n",
    "cbar.ax.set_ylabel('|Ut|')"
   ]
  },
  {
   "cell_type": "markdown",
   "metadata": {},
   "source": [
    "## FV Colourmap of a Plane (x=y=0)"
   ]
  },
  {
   "cell_type": "code",
   "execution_count": 25,
   "metadata": {},
   "outputs": [],
   "source": [
    "# x=y=0, a particular z slice. convert to an 8-bit number\n",
    "fv = np.reshape(thismoms.get(9,thisdump),(resolution,resolution,resolution))\n",
    "fv_bit = 251 + 13.35455532 * np.log(fv[:][:][96])"
   ]
  },
  {
   "cell_type": "code",
   "execution_count": 26,
   "metadata": {},
   "outputs": [],
   "source": [
    "FV_cmap_str = '''\n",
    "Anot: 0 0.0       \n",
    "Anot: 18 0.1058824\n",
    "Anot: 56 0.2745098\n",
    "Anot: 75 0.7843137\n",
    "Anot: 123 1.0 \n",
    "Anot: 158 1.0\n",
    "Anot: 184 0.5490196\n",
    "Anot: 203 0.454902\n",
    "Anot: 255 0.1254902\n",
    "Cnot: 0 0.0 0.0 0.0           \n",
    "Cnot: 48 0.0 0.0 0.2509804    \n",
    "Cnot: 56 0.0 0.2352941 0.627451\n",
    "Cnot: 65 0.0 0.7843137 1.0   \n",
    "Cnot: 75 1.0 1.0 1.0         \n",
    "Cnot: 100 1.0 1.0 0.0         \n",
    "Cnot: 186 1.0 0.0 0.0        \n",
    "Cnot: 244 0.5019608 0.0 0.0   \n",
    "Cnot: 255 0.5019608 0.0 0.0   \n",
    "'''\n",
    "cmap = ppm.colourmap_from_str(FV_cmap_str, segment=(5, 251))\n",
    "\n",
    "# normalize to our 255 bit range\n",
    "norm = mpl.colors.Normalize(vmin=5, vmax=251)"
   ]
  },
  {
   "cell_type": "markdown",
   "metadata": {},
   "source": [
    "#### Square Image"
   ]
  },
  {
   "cell_type": "code",
   "execution_count": 27,
   "metadata": {},
   "outputs": [
    {
     "data": {
      "application/vnd.jupyter.widget-view+json": {
       "model_id": "ea547b30eb8d4569bf799741fd32e84d",
       "version_major": 2,
       "version_minor": 0
      },
      "text/plain": [
       "FigureCanvasNbAgg()"
      ]
     },
     "metadata": {},
     "output_type": "display_data"
    },
    {
     "data": {
      "text/plain": [
       "(-2493.489501953125, 2493.489501953125, -2493.489501953125, 2493.489501953125)"
      ]
     },
     "execution_count": 27,
     "metadata": {},
     "output_type": "execute_result"
    }
   ],
   "source": [
    "my_dpi = 300\n",
    "ifig+=1; plt.close(ifig); plt.figure(ifig,figsize=(536/my_dpi, 536/my_dpi), dpi=my_dpi)\n",
    "x,y,z,r = thismoms.get_grid()\n",
    "plt.pcolor(np.unique(x),np.unique(y),fv_bit,cmap=cmap,norm=norm)\n",
    "\n",
    "plt.axis('off')"
   ]
  },
  {
   "cell_type": "code",
   "execution_count": null,
   "metadata": {},
   "outputs": [],
   "source": []
  },
  {
   "cell_type": "code",
   "execution_count": null,
   "metadata": {},
   "outputs": [],
   "source": []
  },
  {
   "cell_type": "code",
   "execution_count": null,
   "metadata": {},
   "outputs": [],
   "source": []
  }
 ],
 "metadata": {
  "kernelspec": {
   "display_name": "Python 3",
   "language": "python",
   "name": "python3"
  },
  "language_info": {
   "codemirror_mode": {
    "name": "ipython",
    "version": 3
   },
   "file_extension": ".py",
   "mimetype": "text/x-python",
   "name": "python",
   "nbconvert_exporter": "python",
   "pygments_lexer": "ipython3",
   "version": "3.6.7"
  }
 },
 "nbformat": 4,
 "nbformat_minor": 2
}
