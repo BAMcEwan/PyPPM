{
 "cells": [
  {
   "cell_type": "code",
   "execution_count": 4,
   "metadata": {},
   "outputs": [],
   "source": [
    "import sys, os\n",
    "sys.path.append('/user/PyPPM')\n",
    "from ppmpy import ppm\n",
    "from matplotlib import pyplot as plt"
   ]
  },
  {
   "cell_type": "code",
   "execution_count": 2,
   "metadata": {},
   "outputs": [],
   "source": [
    "def list_columns(obj, cols=6, columnwise=True, gap=4):\n",
    "    \"\"\"\n",
    "    Print the given list in evenly-spaced columns.\n",
    "\n",
    "    Parameters\n",
    "    ----------\n",
    "    obj : list\n",
    "        The list to be printed.\n",
    "    cols : int\n",
    "        The number of columns in which the list should be printed.\n",
    "    columnwise : bool, default=True\n",
    "        If True, the items in the list will be printed column-wise.\n",
    "        If False the items in the list will be printed row-wise.\n",
    "    gap : int\n",
    "        The number of spaces that should separate the longest column\n",
    "        item/s from the next column. This is the effective spacing\n",
    "        between columns based on the maximum len() of the list items.\n",
    "    \"\"\"\n",
    "\n",
    "    sobj = [str(item) for item in obj]\n",
    "    if cols > len(sobj): cols = len(sobj)\n",
    "    max_len = max([len(item) for item in sobj])\n",
    "    if columnwise: cols = int(math.ceil(float(len(sobj)) / float(cols)))\n",
    "    plist = [sobj[i: i+cols] for i in range(0, len(sobj), cols)]\n",
    "    if columnwise:\n",
    "        if not len(plist[-1]) == cols:\n",
    "            plist[-1].extend(['']*(len(sobj) - len(plist[-1])))\n",
    "        plist = zip(*plist)\n",
    "    printer = '\\n'.join([\n",
    "        ''.join([c.ljust(max_len + gap) for c in p])\n",
    "        for p in plist])\n",
    "    print(printer)"
   ]
  },
  {
   "cell_type": "markdown",
   "metadata": {},
   "source": [
    "# Initialisation"
   ]
  },
  {
   "cell_type": "code",
   "execution_count": 5,
   "metadata": {
    "scrolled": false
   },
   "outputs": [
    {
     "name": "stdout",
     "output_type": "stream",
     "text": [
      "51 rprof files found in '/data/ASDR/H-core-M25/M29-768/rprofs/.\n",
      "Dump numbers range from 650 to 700.\n",
      "Reading history file '/data/ASDR/H-core-M25/M29-768/rprofs/HcoreE00768-0000.hstry'.\n"
     ]
    }
   ],
   "source": [
    "dir_repo    = '/data/ASDR'\n",
    "dir_project = 'H-core-M25'\n",
    "run         = 'M29-768'\n",
    "path = os.path.join(dir_repo,dir_project,run,'rprofs')\n",
    "rp_set = ppm.RprofSet(path)"
   ]
  },
  {
   "cell_type": "markdown",
   "metadata": {},
   "source": [
    "# Run history"
   ]
  },
  {
   "cell_type": "code",
   "execution_count": 6,
   "metadata": {},
   "outputs": [],
   "source": [
    "rp_hst = rp_set.get_history()"
   ]
  },
  {
   "cell_type": "code",
   "execution_count": 7,
   "metadata": {},
   "outputs": [
    {
     "data": {
      "text/plain": [
       "['NDump',\n",
       " 'NCycle',\n",
       " 'time(secs)',\n",
       " 'time(mins)',\n",
       " 'dt(secs)',\n",
       " 'Courant',\n",
       " 'MachNoMax',\n",
       " 'TotalFlops',\n",
       " 'TimeStamp']"
      ]
     },
     "execution_count": 7,
     "metadata": {},
     "output_type": "execute_result"
    }
   ],
   "source": [
    "rp_hst.get_variables()"
   ]
  },
  {
   "cell_type": "code",
   "execution_count": 8,
   "metadata": {
    "scrolled": false
   },
   "outputs": [
    {
     "name": "stdout",
     "output_type": "stream",
     "text": [
      "0      51     93     144    195    246    297    348    399    450    501    552    603    654    705    \n",
      "1      52     94     145    196    247    298    349    400    451    502    553    604    655    706    \n",
      "2      53     95     146    197    248    299    350    401    452    503    554    605    656    707    \n",
      "3      54     96     147    198    249    300    351    402    453    504    555    606    657    708    \n",
      "4      55     97     148    199    250    301    352    403    454    505    556    607    658    709    \n",
      "5      56     98     149    200    251    302    353    404    455    506    557    608    659    710    \n",
      "6      57     99     150    201    252    303    354    405    456    507    558    609    660    711    \n",
      "7      58     100    151    202    253    304    355    406    457    508    559    610    661    712    \n",
      "8      59     101    152    203    254    305    356    407    458    509    560    611    662    713    \n",
      "9      60     102    153    204    255    306    357    408    459    510    561    612    663    714    \n",
      "10     61     103    154    205    256    307    358    409    460    511    562    613    664    715    \n",
      "11     62     104    155    206    257    308    359    410    461    512    563    614    665    716    \n",
      "12     63     105    156    207    258    309    360    411    462    513    564    615    666    717    \n",
      "13     64     106    157    208    259    310    361    412    463    514    565    616    667    718    \n",
      "14     65     107    158    209    260    311    362    413    464    515    566    617    668    719    \n",
      "15     66     108    159    210    261    312    363    414    465    516    567    618    669    720    \n",
      "16     67     109    160    211    262    313    364    415    466    517    568    619    670    721    \n",
      "17     68     110    161    212    263    314    365    416    467    518    569    620    671    722    \n",
      "18     69     111    162    213    264    315    366    417    468    519    570    621    672    723    \n",
      "19     61     112    163    214    265    316    367    418    469    520    571    622    673    724    \n",
      "20     62     113    164    215    266    317    368    419    470    521    572    623    674    725    \n",
      "21     63     114    165    216    267    318    369    420    471    522    573    624    675    726    \n",
      "22     64     115    166    217    268    319    370    421    472    523    574    625    676    727    \n",
      "23     65     116    167    218    269    320    371    422    473    524    575    626    677    728    \n",
      "24     66     117    168    219    270    321    372    423    474    525    576    627    678    729    \n",
      "25     67     118    169    220    271    322    373    424    475    526    577    628    679    730    \n",
      "26     68     119    170    221    272    323    374    425    476    527    578    629    680    731    \n",
      "27     69     120    171    222    273    324    375    426    477    528    579    630    681    732    \n",
      "28     70     121    172    223    274    325    376    427    478    529    580    631    682    733    \n",
      "29     71     122    173    224    275    326    377    428    479    530    581    632    683    734    \n",
      "30     72     123    174    225    276    327    378    429    480    531    582    633    684    735    \n",
      "31     73     124    175    226    277    328    379    430    481    532    583    634    685    736    \n",
      "32     74     125    176    227    278    329    380    431    482    533    584    635    686    737    \n",
      "33     75     126    177    228    279    330    381    432    483    534    585    636    687    738    \n",
      "34     76     127    178    229    280    331    382    433    484    535    586    637    688    739    \n",
      "35     77     128    179    230    281    332    383    434    485    536    587    638    689    740    \n",
      "36     78     129    180    231    282    333    384    435    486    537    588    639    690    741    \n",
      "37     79     130    181    232    283    334    385    436    487    538    589    640    691    742    \n",
      "38     80     131    182    233    284    335    386    437    488    539    590    641    692    743    \n",
      "39     81     132    183    234    285    336    387    438    489    540    591    642    693    744    \n",
      "40     82     133    184    235    286    337    388    439    490    541    592    643    694    745    \n",
      "41     83     134    185    236    287    338    389    440    491    542    593    644    695    746    \n",
      "42     84     135    186    237    288    339    390    441    492    543    594    645    696    747    \n",
      "43     85     136    187    238    289    340    391    442    493    544    595    646    697           \n",
      "44     86     137    188    239    290    341    392    443    494    545    596    647    698           \n",
      "45     87     138    189    240    291    342    393    444    495    546    597    648    699           \n",
      "46     88     139    190    241    292    343    394    445    496    547    598    649    700           \n",
      "47     89     140    191    242    293    344    395    446    497    548    599    650    701           \n",
      "48     90     141    192    243    294    345    396    447    498    549    600    651    702           \n",
      "49     91     142    193    244    295    346    397    448    499    550    601    652    703           \n",
      "50     92     143    194    245    296    347    398    449    500    551    602    653    704           \n"
     ]
    }
   ],
   "source": [
    "list_columns(rp_hst.get('NDump'), cols=15)"
   ]
  },
  {
   "cell_type": "code",
   "execution_count": 9,
   "metadata": {},
   "outputs": [
    {
     "data": {
      "application/vnd.jupyter.widget-view+json": {
       "model_id": "69749899da3d46d0be8c0e99823c032c",
       "version_major": 2,
       "version_minor": 0
      },
      "text/plain": [
       "FigureCanvasNbAgg()"
      ]
     },
     "metadata": {},
     "output_type": "display_data"
    },
    {
     "data": {
      "text/plain": [
       "(0.0, 300.0)"
      ]
     },
     "execution_count": 9,
     "metadata": {},
     "output_type": "execute_result"
    }
   ],
   "source": [
    "ifig=1; plt.close(ifig); plt.figure(ifig)\n",
    "rp_hst.plot_wct_per_dump()\n",
    "plt.ylim((0., 300.))"
   ]
  },
  {
   "cell_type": "markdown",
   "metadata": {},
   "source": [
    "# Reading and plotting data"
   ]
  },
  {
   "cell_type": "code",
   "execution_count": 16,
   "metadata": {},
   "outputs": [
    {
     "data": {
      "application/vnd.jupyter.widget-view+json": {
       "model_id": "6d96e89838a34635b5bbaf1c5f431dc6",
       "version_major": 2,
       "version_minor": 0
      },
      "text/plain": [
       "FigureCanvasNbAgg()"
      ]
     },
     "metadata": {},
     "output_type": "display_data"
    },
    {
     "name": "stderr",
     "output_type": "stream",
     "text": [
      "DEBUG:matplotlib.axes._base:update_title_pos\n"
     ]
    }
   ],
   "source": [
    "ifig=2; plt.close(ifig); plt.figure(ifig)\n",
    "rp_set.plot_A(675, resolution='l')"
   ]
  },
  {
   "cell_type": "code",
   "execution_count": 21,
   "metadata": {
    "scrolled": false
   },
   "outputs": [
    {
     "name": "stdout",
     "output_type": "stream",
     "text": [
      "Dump 675 at t = 114211.50 min is the closest to t = 114211.54 min.\n",
      "36.566212    32.631344    29.739134    27.533916    24.4167      24.41354     24.415873    24.421856    \n",
      "36.566223    32.555637    29.691031    27.312973    24.416521    24.413557    24.415915    24.421944    \n",
      "36.567909    32.480808    29.643143    26.966076    24.416344    24.413572    24.415939    24.422026    \n",
      "36.763779    32.406639    29.595512    26.444529    24.416155    24.413578    24.415983    24.422043    \n",
      "36.865971    32.333004    29.548376    25.809841    24.415974    24.413601    24.416046    24.422123    \n",
      "36.849133    32.26049     29.501572    25.25947     24.415794    24.413628    24.416143    24.422209    \n",
      "36.827904    32.189178    29.455105    24.892612    24.415625    24.413671    24.416256    24.422329    \n",
      "36.785545    32.11853     29.40888     24.681787    24.415461    24.413702    24.416317    24.422428    \n",
      "36.708885    32.048538    29.3629      24.569092    24.415314    24.413763    24.416416    24.422512    \n",
      "36.596928    31.979586    29.317186    24.507586    24.415178    24.413754    24.416517    24.422531    \n",
      "36.468563    31.911331    29.271935    24.473394    24.415045    24.413803    24.416615    24.422604    \n",
      "36.340767    31.843557    29.227154    24.454252    24.414921    24.413862    24.416729    24.422663    \n",
      "36.21801     31.776583    29.182747    24.443424    24.414793    24.413919    24.416876    24.422756    \n",
      "36.096813    31.710707    29.138651    24.437269    24.4147      24.413975    24.417017    24.422823    \n",
      "35.971661    31.645397    29.094767    24.433636    24.414558    24.414051    24.417145    24.422909    \n",
      "35.840233    31.580471    29.051353    24.431282    24.414433    24.414099    24.417263    24.422997    \n",
      "35.706753    31.516314    29.008366    24.429682    24.41433     24.414167    24.417379    24.423069    \n",
      "35.579357    31.452501    28.96559     24.428446    24.414213    24.414215    24.41749     24.423107    \n",
      "35.45985     31.389071    28.923027    24.427462    24.414125    24.414253    24.41762     24.423098    \n",
      "35.344353    31.326538    28.880743    24.42667     24.414043    24.414295    24.417738    24.423107    \n",
      "35.230232    31.264734    28.838665    24.425974    24.413979    24.414351    24.417847    24.423105    \n",
      "35.116985    31.203316    28.796822    24.425341    24.413906    24.414402    24.41795     24.423113    \n",
      "35.005142    31.142635    28.755274    24.424801    24.413803    24.414438    24.418081    24.423111    \n",
      "34.895164    31.082611    28.714088    24.424311    24.413792    24.414469    24.418255    24.423109    \n",
      "34.786224    31.023155    28.673176    24.423864    24.413734    24.414509    24.418394    24.423071    \n",
      "34.679447    30.964369    28.632448    24.423407    24.413694    24.41456     24.418543    24.423088    \n",
      "34.57476     30.905848    28.592056    24.422955    24.413656    24.414602    24.418665    24.423088    \n",
      "34.472153    30.847618    28.552013    24.422523    24.413645    24.414667    24.418837    24.423082    \n",
      "34.372021    30.790207    28.512224    24.422174    24.413599    24.414713    24.419016    24.423132    \n",
      "34.273689    30.733496    28.472744    24.42178     24.413567    24.414759    24.419205    24.423149    \n",
      "34.175854    30.677223    28.433558    24.421425    24.41354     24.414797    24.41938     24.423183    \n",
      "34.077969    30.621401    28.394573    24.421097    24.413507    24.414816    24.4195      24.423237    \n",
      "33.981949    30.565781    28.355761    24.420778    24.413454    24.414865    24.419619    24.423241    \n",
      "33.888611    30.511003    28.317251    24.420464    24.413399    24.414927    24.419727    24.423189    \n",
      "33.796589    30.456745    28.279026    24.420153    24.413378    24.414982    24.419828    24.42312     \n",
      "33.705959    30.402586    28.241026    24.41984     24.413374    24.415049    24.41995     24.423063    \n",
      "33.616795    30.348801    28.203186    24.41955     24.413366    24.415104    24.420069    24.422943    \n",
      "33.52906     30.295389    28.165363    24.419287    24.413364    24.415165    24.420214    24.422762    \n",
      "33.442142    30.242661    28.127113    24.418991    24.413363    24.415215    24.420357    24.422632    \n",
      "33.355854    30.19055     28.088612    24.418726    24.413376    24.415268    24.420488    24.422649    \n",
      "33.270569    30.138597    28.050117    24.418467    24.413374    24.415321    24.420656    24.422747    \n",
      "33.186733    30.086966    28.01248     24.418194    24.413397    24.415392    24.420816    24.42288     \n",
      "33.104473    30.036207    27.976826    24.417963    24.413404    24.415394    24.42104     24.423037    \n",
      "33.02335     29.98608     27.943436    24.417723    24.413416    24.415464    24.421204    24.423292    \n",
      "32.942806    29.936003    27.910149    24.417511    24.413446    24.415537    24.421408    24.423639    \n",
      "32.86314     29.886105    27.868622    24.417276    24.413477    24.415596    24.421583    24.410717    \n",
      "32.784973    29.83658     27.799753    24.41708     24.4135      24.415701    24.421648    24.148485    \n",
      "32.707829    29.78763     27.689285    24.41687     24.413519    24.415775    24.421717    24.08322     \n"
     ]
    }
   ],
   "source": [
    "t=rp_set.get('t',fname=675)\n",
    "list_columns(rp_set.get('A', t, num_type='t', resolution='l'), cols=8)"
   ]
  },
  {
   "cell_type": "code",
   "execution_count": 22,
   "metadata": {},
   "outputs": [],
   "source": [
    "rp = rp_set.get_dump(675)"
   ]
  },
  {
   "cell_type": "code",
   "execution_count": 23,
   "metadata": {
    "scrolled": false
   },
   "outputs": [
    {
     "name": "stdout",
     "output_type": "stream",
     "text": [
      "airmu                         ifintel                       nvarstovisualize              \n",
      "argsimg(1)                    ifmoms                        nViews                        \n",
      "argsimg(10                    ifnotviolent                  NWorkersPerTeam               \n",
      "argsimg(11                    ifnowriteback                 Nx                            \n",
      "argsimg(12                    ifpmoms                       NXBricks                      \n",
      "argsimg(13                    ifsimplechop                  NXBricksPerTeam               \n",
      "argsimg(14                    ifsloflo                      NXTeams                       \n",
      "argsimg(15                    ifsrend                       NYBricks                      \n",
      "argsimg(16                    ifteambobs                    NYTeams                       \n",
      "argsimg(17                    isstar                        NZBricks                      \n",
      "argsimg(18                    lenbob8                       NZTeams                       \n",
      "argsimg(2)                    lenboball                     p0                            \n",
      "argsimg(3)                    lenbobs                       p00                           \n",
      "argsimg(4)                    maxbqsallowedforchads         p1                            \n",
      "argsimg(5)                    maxchadbytes                  prs00base                     \n",
      "argsimg(6)                    maxfullbks                    qc12pgammaMEV                 \n",
      "argsimg(7)                    maxnbks                       radbase                       \n",
      "argsimg(8)                    maxrad                        radin0                        \n",
      "argsimg(9)                    maxxpixels                    radinner                      \n",
      "atomicnoair                   maxypixels                    radmax                        \n",
      "atomicnocld                   NAdminsPerTeam                radout0                       \n",
      "BrickDepth                    nbdy                          radouter                      \n",
      "BrickHeight                   nbqs                          radtop                        \n",
      "BrickWidth                    nbqsinaaa                     Rgasconst                     \n",
      "cldmu                         nbqsinbrickrecord             rho0                          \n",
      "CN                            nbqsinchads                   rho00                         \n",
      "coefns                        nbqsindd                      rho00base                     \n",
      "deex                          nbqsinmaxbkchads              rho1                          \n",
      "delrad                        nbqsinmaxchad                 rhoabove                      \n",
      "difcon                        nbqsinradprofs                RhoCldToAir0                  \n",
      "DisplaceAmpl                  nbqsinrprofs                  rhoconv                       \n",
      "divu0                         nbqx                          s0                            \n",
      "divu1                         nbqy                          s00                           \n",
      "dlayerbot                     nbqz                          s01                           \n",
      "dlayertop                     NBricks                       s1                            \n",
      "dtinit                        nbricksperdimension           shkjmp                        \n",
      "fkair                         nbricksperdimensionperteam    smalle                        \n",
      "fkcld                         NBricksPerTeam                smallp                        \n",
      "fv0                           NBricksPerWorker              smallu                        \n",
      "fv1                           ncpucores                     smlrho                        \n",
      "g                             NcyclesPerDump                SoundSpeed0Air                \n",
      "gammaabove                    nddvars                       SoundSpeed0Cld                \n",
      "GammaAir                      NDumps                        t                             \n",
      "gammabelow                    NdumpsperRestartDump          totallum                      \n",
      "GammaCld                      nfluids                       TransitionThickness           \n",
      "gammaconv                     nglobs                        ujiggle                       \n",
      "grav00base                    nincacheline                  urbdryatreq1                  \n",
      "gravconst                     ninsugarcube                  ux0                           \n",
      "if1dtest                      Nloops                        ux1                           \n",
      "if2ddisk                      nprevtimes                    uy0                           \n",
      "if3dtest                      NRanks                        uy1                           \n",
      "ifamr                         NRanksPerNode                 uz0                           \n",
      "ifbarrierperblock             NRanksPerTeam                 uz1                           \n",
      "ifburn                        nssq                          vort0                         \n",
      "ifcall3in1                    nssqbq                        vort1                         \n",
      "ifcray                        nsugar                        VX0                           \n",
      "ifflatstar                    NTeams                        vx0sq                         \n",
      "ifgputest                     nteamsperdimension            wavhaf                        \n",
      "ifheat                        ntocomposite                                                \n"
     ]
    }
   ],
   "source": [
    "list_columns(rp.get_header_variables(), cols=3)"
   ]
  },
  {
   "cell_type": "code",
   "execution_count": 24,
   "metadata": {},
   "outputs": [
    {
     "name": "stdout",
     "output_type": "stream",
     "text": [
      "Nx = 768\n",
      "airmu = 0.6690000295639038\n",
      "cldmu = 0.6169999837875366\n"
     ]
    }
   ],
   "source": [
    "print('Nx = ' + str(rp.get('Nx')))\n",
    "print('airmu = ' + str(rp.get('airmu')))\n",
    "print('cldmu = ' + str(rp.get('cldmu')))"
   ]
  },
  {
   "cell_type": "code",
   "execution_count": 25,
   "metadata": {},
   "outputs": [
    {
     "data": {
      "text/plain": [
       "['FV', 'FV0', 'P0', 'P1', 'R', 'Rho0', 'Rho1', 'T9']"
      ]
     },
     "execution_count": 25,
     "metadata": {},
     "output_type": "execute_result"
    }
   ],
   "source": [
    "rp.get_hr_variables()"
   ]
  },
  {
   "cell_type": "code",
   "execution_count": 26,
   "metadata": {},
   "outputs": [
    {
     "name": "stdout",
     "output_type": "stream",
     "text": [
      "A               dRhoUrUsqRMS    EnucSumMax      Mach#           Rho1fMin        Ur              \n",
      "Ceul            dT9RMS          EnucSumMin      MachMax         RhoUr           UrMax           \n",
      "dEnucRMS        dUrRMS          FV              MachMin         RhoUrH          UrMin           \n",
      "dEnucSumRMS     d|Ut|RMS        FVMax           P1/P0           RhoUrUsq        |Ut|            \n",
      "dFVrms          d|U|RMS         FVMin           P1fMax          RhoUrUsqMax     |Ut|Max         \n",
      "dHburnedRMS     Enuc            Hburned         P1fMin          RhoUrUsqMin     |Ut|Min         \n",
      "dMachRMS        EnucMax         HburnedMax      R               T9              |U|             \n",
      "dP1fRMS         EnucMin         HburnedMin      Rho1/Rho0       T9Max           |U|Max          \n",
      "dRho1fRMS       EnucSum         Mach            Rho1fMax        T9Min           |U|Min          \n"
     ]
    }
   ],
   "source": [
    "list_columns(rp.get_lr_variables())"
   ]
  },
  {
   "cell_type": "code",
   "execution_count": null,
   "metadata": {},
   "outputs": [],
   "source": []
  }
 ],
 "metadata": {
  "kernelspec": {
   "display_name": "Python 3",
   "language": "python",
   "name": "python3"
  },
  "language_info": {
   "codemirror_mode": {
    "name": "ipython",
    "version": 3
   },
   "file_extension": ".py",
   "mimetype": "text/x-python",
   "name": "python",
   "nbconvert_exporter": "python",
   "pygments_lexer": "ipython3",
   "version": "3.6.7"
  }
 },
 "nbformat": 4,
 "nbformat_minor": 2
}
