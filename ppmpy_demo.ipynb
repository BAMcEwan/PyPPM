{
 "cells": [
  {
   "cell_type": "code",
   "execution_count": 1,
   "metadata": {
    "collapsed": false
   },
   "outputs": [],
   "source": [
    "import sys, os\n",
    "sys.path.insert(0,'/user/PyPPM/')\n",
    "from ppmpy import ppm"
   ]
  },
  {
   "cell_type": "code",
   "execution_count": 2,
   "metadata": {
    "collapsed": false
   },
   "outputs": [
    {
     "data": {
      "text/plain": [
       "['agb-entrainment-convergence',\n",
       " 'AGBTP_M2.0Z1.e-5',\n",
       " 'RAWD',\n",
       " 'M4ZAMS',\n",
       " 'O-shell-mixing',\n",
       " 'sakurai',\n",
       " 'O-shell-M25',\n",
       " 'C-ingestion',\n",
       " 'sakurai-num-exp-robustness-onset-GOSH']"
      ]
     },
     "execution_count": 2,
     "metadata": {},
     "output_type": "execute_result"
    }
   ],
   "source": [
    "YProfile_dir = '/data/ppm_rpod2/YProfiles/'\n",
    "os.listdir(YProfile_dir)"
   ]
  },
  {
   "cell_type": "code",
   "execution_count": 10,
   "metadata": {
    "collapsed": false
   },
   "outputs": [
    {
     "name": "stdout",
     "output_type": "stream",
     "text": [
      "O-shell-M25\n"
     ]
    }
   ],
   "source": [
    "project_dir = os.listdir(YProfile_dir)[6]\n",
    "print(project_dir)"
   ]
  },
  {
   "cell_type": "code",
   "execution_count": 11,
   "metadata": {
    "collapsed": false,
    "scrolled": true
   },
   "outputs": [],
   "source": [
    "#reload(ppm)\n",
    "ppm.set_YProf_path(os.path.join(YProfile_dir,project_dir))"
   ]
  },
  {
   "cell_type": "code",
   "execution_count": 12,
   "metadata": {
    "collapsed": false
   },
   "outputs": [
    {
     "name": "stdout",
     "output_type": "stream",
     "text": [
      "/data/ppm_rpod2/YProfiles/O-shell-M25\n",
      "['D10', 'D11', 'D14', 'D23', 'D17', 'D4', 'D29', 'D24b', 'D1_toomuchoutput', 'D5', 'D3', 'D9', 'D26', 'D22', 'D19', 'D15', 'D16', 'D28', 'D27', 'D8', 'D1', 'D18', 'D6', 'D12', 'D25', 'D20', 'D24a', 'D21', 'D2']\n"
     ]
    }
   ],
   "source": [
    "print(ppm.ppm_path)\n",
    "print(ppm.cases)"
   ]
  },
  {
   "cell_type": "code",
   "execution_count": 13,
   "metadata": {
    "collapsed": false
   },
   "outputs": [],
   "source": [
    "ppm.set_nice_params()"
   ]
  },
  {
   "cell_type": "markdown",
   "metadata": {},
   "source": [
    "## High-res standard run"
   ]
  },
  {
   "cell_type": "code",
   "execution_count": 14,
   "metadata": {
    "collapsed": false
   },
   "outputs": [
    {
     "name": "stdout",
     "output_type": "stream",
     "text": [
      "Reading attributes from file  YProfile-01-0163.bobaaa\n",
      "There are 164 YProfile files in the /data/ppm_rpod2/YProfiles/O-shell-M25/D2 directory.\n",
      "Ndump values range from 0 to 163\n",
      "Time values range from 0.0 to 1640.0\n"
     ]
    }
   ],
   "source": [
    "d2=ppm.yprofile('D2') # O-shell 1536^3 case"
   ]
  },
  {
   "cell_type": "code",
   "execution_count": 16,
   "metadata": {
    "collapsed": false
   },
   "outputs": [
    {
     "data": {
      "application/vnd.jupyter.widget-view+json": {
       "model_id": "b3f7da733ebc400fa609263aab3d100a",
       "version_major": 2,
       "version_minor": 0
      },
      "text/plain": [
       "FigureCanvasNbAgg()"
      ]
     },
     "metadata": {},
     "output_type": "display_data"
    }
   ],
   "source": [
    "# figure out where we want to put the convective boundary\n",
    "ifig=10;close(ifig);figure(ifig)\n",
    "d2.plot('Y','A',shape='-',fname=120)"
   ]
  },
  {
   "cell_type": "code",
   "execution_count": 18,
   "metadata": {
    "collapsed": false
   },
   "outputs": [
    {
     "data": {
      "application/vnd.jupyter.widget-view+json": {
       "model_id": "",
       "version_major": 2,
       "version_minor": 0
      },
      "text/plain": [
       "FigureCanvasNbAgg()"
      ]
     },
     "metadata": {},
     "output_type": "display_data"
    },
    {
     "name": "stdout",
     "output_type": "stream",
     "text": [
      "R_top centred on the nearest cell: R_top = 8.148.\n",
      "R_low centred on the cell nearest to R_top - 1: R_low = 7.152.\n"
     ]
    },
    {
     "data": {
      "application/vnd.jupyter.widget-view+json": {
       "model_id": "a3d92ae589524237bd9c0126d0a502f6",
       "version_major": 2,
       "version_minor": 0
      },
      "text/plain": [
       "FigureCanvasNbAgg()"
      ]
     },
     "metadata": {},
     "output_type": "display_data"
    }
   ],
   "source": [
    "rtop=8.15\n",
    "ifig=11;close(ifig);figure(ifig)\n",
    "d2.Richardson_plot(ifig=ifig,fname1=0, fname2= 120, R_top = rtop)"
   ]
  },
  {
   "cell_type": "markdown",
   "metadata": {},
   "source": [
    "## O-shell case with 50 times heating rate"
   ]
  },
  {
   "cell_type": "code",
   "execution_count": 20,
   "metadata": {
    "collapsed": false
   },
   "outputs": [
    {
     "name": "stdout",
     "output_type": "stream",
     "text": [
      "Reading attributes from file  YProfile-01-0262.bobaaa\n",
      "There are 263 YProfile files in the /data/ppm_rpod2/YProfiles/O-shell-M25/D10 directory.\n",
      "Ndump values range from 0 to 262\n",
      "Time values range from 0.0 to 2620.0\n"
     ]
    }
   ],
   "source": [
    "d10=ppm.yprofile('D10') # O-shell 50x heat, 768^3 case"
   ]
  },
  {
   "cell_type": "code",
   "execution_count": 22,
   "metadata": {
    "collapsed": false
   },
   "outputs": [
    {
     "data": {
      "application/vnd.jupyter.widget-view+json": {
       "model_id": "00b0b14b1883406bb52e99c7fdfacde6",
       "version_major": 2,
       "version_minor": 0
      },
      "text/plain": [
       "FigureCanvasNbAgg()"
      ]
     },
     "metadata": {},
     "output_type": "display_data"
    }
   ],
   "source": [
    "# find the top of the convection zone\n",
    "ifig=50;close(ifig);figure(ifig)\n",
    "d10.plot('Y','A',shape='--',fname=120)"
   ]
  },
  {
   "cell_type": "code",
   "execution_count": 25,
   "metadata": {
    "collapsed": false
   },
   "outputs": [
    {
     "data": {
      "application/vnd.jupyter.widget-view+json": {
       "model_id": "a4253007449a411c9ad8399c8f0aed2c",
       "version_major": 2,
       "version_minor": 0
      },
      "text/plain": [
       "FigureCanvasNbAgg()"
      ]
     },
     "metadata": {},
     "output_type": "display_data"
    },
    {
     "data": {
      "text/plain": [
       "(3, 9)"
      ]
     },
     "execution_count": 25,
     "metadata": {},
     "output_type": "execute_result"
    }
   ],
   "source": [
    "ifig=12;close(ifig);figure(ifig)\n",
    "d10.vprofs(120,ifig=12)\n",
    "xlim(3,9)"
   ]
  },
  {
   "cell_type": "code",
   "execution_count": 27,
   "metadata": {
    "collapsed": false
   },
   "outputs": [
    {
     "data": {
      "application/vnd.jupyter.widget-view+json": {
       "model_id": "",
       "version_major": 2,
       "version_minor": 0
      },
      "text/plain": [
       "FigureCanvasNbAgg()"
      ]
     },
     "metadata": {},
     "output_type": "display_data"
    },
    {
     "name": "stdout",
     "output_type": "stream",
     "text": [
      "R_top centred on the nearest cell: R_top = 8.868.\n",
      "R_low centred on the cell nearest to R_top - 1: R_low = 7.873.\n"
     ]
    },
    {
     "data": {
      "application/vnd.jupyter.widget-view+json": {
       "model_id": "5948bb37c7ef492c812d1eb468ea516f",
       "version_major": 2,
       "version_minor": 0
      },
      "text/plain": [
       "FigureCanvasNbAgg()"
      ]
     },
     "metadata": {},
     "output_type": "display_data"
    },
    {
     "data": {
      "text/plain": [
       "<matplotlib.legend.Legend at 0x7f4d772bdef0>"
      ]
     },
     "execution_count": 27,
     "metadata": {},
     "output_type": "execute_result"
    }
   ],
   "source": [
    "rtop=8.88\n",
    "ifig=51;close(ifig);figure(ifig)\n",
    "d10.Richardson_plot(ifig=ifig,fname1=0, fname2= 120, R_top = rtop,ylim_max=2.4)\n",
    "legend(loc=3)"
   ]
  },
  {
   "cell_type": "code",
   "execution_count": 28,
   "metadata": {
    "collapsed": true
   },
   "outputs": [
    {
     "data": {
      "text/plain": [
       "\u001b[0;31mSignature:\u001b[0m \u001b[0md2\u001b[0m\u001b[0;34m.\u001b[0m\u001b[0mRichardson_plot\u001b[0m\u001b[0;34m(\u001b[0m\u001b[0mfname1\u001b[0m\u001b[0;34m=\u001b[0m\u001b[0;36m0\u001b[0m\u001b[0;34m,\u001b[0m \u001b[0mfname2\u001b[0m\u001b[0;34m=\u001b[0m\u001b[0;36m2\u001b[0m\u001b[0;34m,\u001b[0m \u001b[0mR_low\u001b[0m\u001b[0;34m=\u001b[0m\u001b[0;32mNone\u001b[0m\u001b[0;34m,\u001b[0m \u001b[0mR_top\u001b[0m\u001b[0;34m=\u001b[0m\u001b[0;32mNone\u001b[0m\u001b[0;34m,\u001b[0m \u001b[0mdo_plots\u001b[0m\u001b[0;34m=\u001b[0m\u001b[0;32mFalse\u001b[0m\u001b[0;34m,\u001b[0m \u001b[0mlogRi_levels\u001b[0m\u001b[0;34m=\u001b[0m\u001b[0;34m[\u001b[0m\u001b[0;34m-\u001b[0m\u001b[0;36m1.0\u001b[0m\u001b[0;34m,\u001b[0m \u001b[0;34m-\u001b[0m\u001b[0;36m0.6\u001b[0m\u001b[0;34m,\u001b[0m \u001b[0;36m0.0\u001b[0m\u001b[0;34m,\u001b[0m \u001b[0;36m1.0\u001b[0m\u001b[0;34m,\u001b[0m \u001b[0;36m2.0\u001b[0m\u001b[0;34m,\u001b[0m \u001b[0;36m3.0\u001b[0m\u001b[0;34m]\u001b[0m\u001b[0;34m,\u001b[0m \u001b[0mylim_max\u001b[0m\u001b[0;34m=\u001b[0m\u001b[0;36m2.02\u001b[0m\u001b[0;34m,\u001b[0m \u001b[0mcompressible_fluid\u001b[0m\u001b[0;34m=\u001b[0m\u001b[0;32mTrue\u001b[0m\u001b[0;34m,\u001b[0m \u001b[0mplot_type\u001b[0m\u001b[0;34m=\u001b[0m\u001b[0;36m0\u001b[0m\u001b[0;34m,\u001b[0m \u001b[0mifig\u001b[0m\u001b[0;34m=\u001b[0m\u001b[0;36m101\u001b[0m\u001b[0;34m)\u001b[0m\u001b[0;34m\u001b[0m\u001b[0;34m\u001b[0m\u001b[0m\n",
       "\u001b[0;31mDocstring:\u001b[0m\n",
       "Make a plot of radius vs tangential velocity in the vicinity of the\n",
       "boundary and draw on lines of constant Richardson number. Compared to\n",
       "the function that produced Fig. 9 of Woodward+ (2015) this one takes\n",
       "into account the compressibility of the gas. Several bugs have been\n",
       "removed, too.\n",
       "\n",
       "\n",
       "Parameters\n",
       "----------\n",
       "fname1 : int\n",
       "    Which dump do you want to take the stratification from?\n",
       "fname2 : int\n",
       "    Which dump do you want to take the velocities from?\n",
       "R_low : float\n",
       "    The minimum radius in the plot. If invalid or None it will be set\n",
       "    to R_top - 1.\n",
       "R_top : float\n",
       "    Radius of top of convection zone. If invalid or None it will be set \n",
       "    to the radius at which FV H+He = 0.9.\n",
       "do_plots : logical\n",
       "    Do you want to do some intermittent plotting?\n",
       "logRi_levels : list, optional\n",
       "    Values of Ri for which to draw contours.\n",
       "ylim_max : float\n",
       "    Max of ylim (min is automatically determined) in the final plot.\n",
       "compressible_fluid : logical\n",
       "    You can set it to False to use the Richardson criterion for\n",
       "    an incompressible fluid.\n",
       "plot_type : int\n",
       "    plot_type = 0: Use a variable lower endpoint and a fixed upper endpoint of\n",
       "    the radial interval, in which Ri is calculated. Ri is plotted\n",
       "    for a range of assumed velocity differences with respect to\n",
       "    the upper endpoint.\n",
       "    plot_type = 1: Compute Ri locally assuming that the local velocities vanish\n",
       "    on a certain length scale, which is computed from the radial\n",
       "    profile of the RMS horizontal velocity.\n",
       "ifig : int\n",
       "    Figure number for the Richardson plot (a new window must be opened).\n",
       "\n",
       "Examples\n",
       "---------\n",
       "\n",
       ".. ipython::\n",
       "\n",
       "    In [136]: data_dir = '/data/ppm_rpod2/YProfiles/'\n",
       "       .....: project = 'AGBTP_M2.0Z1.e-5'\n",
       "       .....: ppm.set_YProf_path(data_dir+project)\n",
       "    \n",
       "    @savefig richardson.png width=6in\n",
       "    In [136]: F4 = ppm.yprofile('F4')\n",
       "       .....: F4.Richardson_plot()\n",
       "       \n",
       "\u001b[0;31mFile:\u001b[0m      /user/scratch14.4/PyPPM/ppmpy/ppm.py\n",
       "\u001b[0;31mType:\u001b[0m      method\n"
      ]
     },
     "metadata": {},
     "output_type": "display_data"
    }
   ],
   "source": [
    "d2.Richardson_plot?"
   ]
  }
 ],
 "metadata": {
  "kernelspec": {
   "display_name": "Python 3",
   "language": "python",
   "name": "python3"
  },
  "language_info": {
   "codemirror_mode": {
    "name": "ipython",
    "version": 3
   },
   "file_extension": ".py",
   "mimetype": "text/x-python",
   "name": "python",
   "nbconvert_exporter": "python",
   "pygments_lexer": "ipython3",
   "version": "3.6.7"
  }
 },
 "nbformat": 4,
 "nbformat_minor": 2
}
